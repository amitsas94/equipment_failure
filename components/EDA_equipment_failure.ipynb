{
 "cells": [
  {
   "cell_type": "code",
   "execution_count": null,
   "id": "3ce702b3-4d25-4f43-b841-68e0b49131ee",
   "metadata": {},
   "outputs": [],
   "source": [
    "import pandas as pd\n",
    "import numpy as np\n",
    "import datetime as datetime\n",
    "import matplotlib as mpl\n",
    "import seaborn as sns\n",
    "import matplotlib.pyplot as plt\n",
    "import os\n",
    "import math\n",
    "\n",
    "import warnings\n",
    "warnings.filterwarnings('ignore')"
   ]
  },
  {
   "cell_type": "code",
   "execution_count": null,
   "id": "eae1c3d0-75b4-4413-826a-c6b708fdffe0",
   "metadata": {},
   "outputs": [],
   "source": [
    "pd_data_1 = pd.read_csv(r\"E:\\equipment_failure\\data\\equipment_failure_data_1.csv\")\n",
    "pd_data_1"
   ]
  },
  {
   "cell_type": "code",
   "execution_count": null,
   "id": "26056796-a9d4-486d-93c4-2e817cb32e19",
   "metadata": {},
   "outputs": [],
   "source": [
    "pd_data_2 = pd.read_csv(r\"E:\\equipment_failure\\data\\equipment_failure_data_2.csv\")\n",
    "pd_data_2"
   ]
  },
  {
   "cell_type": "code",
   "execution_count": null,
   "id": "0e28c5c4-cfee-4545-969e-ef82c8a1d02b",
   "metadata": {},
   "outputs": [],
   "source": [
    "df = pd.concat([pd_data_1, pd_data_2])\n",
    "df"
   ]
  },
  {
   "cell_type": "code",
   "execution_count": null,
   "id": "95f9fcb8-d44b-46ea-b18f-0b9392f2f2bb",
   "metadata": {},
   "outputs": [],
   "source": [
    "df.isnull().sum()"
   ]
  },
  {
   "cell_type": "code",
   "execution_count": null,
   "id": "b52683cb-c603-4607-921e-f75e72071421",
   "metadata": {},
   "outputs": [],
   "source": [
    "df.info()"
   ]
  },
  {
   "cell_type": "code",
   "execution_count": null,
   "id": "0430bd78-7f0c-44cf-83c2-61af3261d548",
   "metadata": {},
   "outputs": [],
   "source": [
    "df.EQUIPMENT_FAILURE.value_counts()"
   ]
  },
  {
   "cell_type": "code",
   "execution_count": null,
   "id": "92d0ef7b-07ea-40df-8ae7-d95c721920f9",
   "metadata": {},
   "outputs": [],
   "source": [
    "df.EQUIPMENT_FAILURE.value_counts().plot(kind='bar')"
   ]
  },
  {
   "cell_type": "code",
   "execution_count": null,
   "id": "c6e39afb-05df-42b1-a2e0-01c7e7845571",
   "metadata": {},
   "outputs": [],
   "source": [
    "df.duplicated().sum()"
   ]
  },
  {
   "cell_type": "code",
   "execution_count": null,
   "id": "53906aae-9a1a-4992-8031-bcf724e6f05b",
   "metadata": {},
   "outputs": [],
   "source": [
    "df.nunique()"
   ]
  },
  {
   "cell_type": "code",
   "execution_count": null,
   "id": "1924875e-0037-4ad6-a225-b51f46e52d69",
   "metadata": {},
   "outputs": [],
   "source": [
    "df.describe()"
   ]
  },
  {
   "cell_type": "code",
   "execution_count": null,
   "id": "09cb3614-fc96-4f9f-bdbd-a18702fb317e",
   "metadata": {},
   "outputs": [],
   "source": [
    "sns.pairplot(df, hue=\"EQUIPMENT_FAILURE\", palette=\"rainbow\")"
   ]
  },
  {
   "cell_type": "code",
   "execution_count": null,
   "id": "8f410d0f-ef47-43b9-9e3b-d88588592a60",
   "metadata": {},
   "outputs": [],
   "source": []
  }
 ],
 "metadata": {
  "kernelspec": {
   "display_name": "equipfail",
   "language": "python",
   "name": "equipfail"
  },
  "language_info": {
   "codemirror_mode": {
    "name": "ipython",
    "version": 3
   },
   "file_extension": ".py",
   "mimetype": "text/x-python",
   "name": "python",
   "nbconvert_exporter": "python",
   "pygments_lexer": "ipython3",
   "version": "3.8.19"
  }
 },
 "nbformat": 4,
 "nbformat_minor": 5
}
